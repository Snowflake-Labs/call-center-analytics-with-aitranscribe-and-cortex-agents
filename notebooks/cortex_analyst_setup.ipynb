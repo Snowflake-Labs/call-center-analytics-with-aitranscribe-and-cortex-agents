{
 "cells": [
  {
   "cell_type": "markdown",
   "id": "ce110000-1111-2222-3333-ffffff000000",
   "metadata": {
    "name": "cell1"
   },
   "source": [
    "# Cortex Analyst Setup for Call Center Analytics\n",
    "\n",
    "This notebook sets up Cortex Analyst and Cortex Search services to enable intelligent natural language queries over our call center data. We'll create:\n",
    "\n",
    "- **Semantic Model** for Cortex Analyst (text-to-SQL)\n",
    "- **Search Service** for Cortex Search (RAG capabilities)\n",
    "- **Test queries** to validate setup\n",
    "\n",
    "## Prerequisites\n",
    "- AI_TRANSCRIBE notebook completed with `comprehensive_call_analysis` table created\n",
    "- Cortex Analyst and Cortex Search enabled on your account\n"
   ]
  },
  {
   "cell_type": "code",
   "execution_count": null,
   "id": "ce110000-1111-2222-3333-ffffff000001",
   "metadata": {
    "language": "python",
    "name": "cell2"
   },
   "outputs": [],
   "source": [
    "# Import required packages\n",
    "import pandas as pd\n",
    "from snowflake.snowpark.context import get_active_session\n",
    "import yaml\n",
    "import json\n",
    "\n",
    "# Get active session\n",
    "session = get_active_session()\n",
    "session.use_role(\"call_center_analytics_role\")\n",
    "\n",
    "print(f\"❄️ Setting up Cortex Analyst for Call Center Analytics\")\n",
    "print(f\"Role: {session.get_current_role()}\")\n",
    "print(f\"Database.Schema: {session.get_fully_qualified_current_schema()}\")\n"
   ]
  },
  {
   "cell_type": "markdown",
   "id": "ce110000-1111-2222-3333-ffffff000002",
   "metadata": {
    "name": "cell3"
   },
   "source": [
    "## Step 1: Create Stage for Models and Setup\n"
   ]
  },
  {
   "cell_type": "code",
   "execution_count": null,
   "id": "ce110000-1111-2222-3333-ffffff000003",
   "metadata": {
    "language": "sql",
    "name": "cell4",
    "vscode": {
     "languageId": "sql"
    }
   },
   "outputs": [],
   "source": [
    "-- Create stage for storing semantic models and configurations\n",
    "CREATE STAGE IF NOT EXISTS cortex_models\n",
    "DIRECTORY = (ENABLE = TRUE)\n",
    "COMMENT = 'Stage for Cortex Analyst semantic models and Cortex Search configurations';\n"
   ]
  },
  {
   "cell_type": "markdown",
   "id": "ce110000-1111-2222-3333-ffffff000004",
   "metadata": {
    "name": "cell5"
   },
   "source": [
    "## Step 2: Create Semantic Model for Cortex Analyst\n"
   ]
  },
  {
   "cell_type": "code",
   "execution_count": null,
   "id": "3d799c31-d13f-4d1c-b7ad-8c95fca0fc59",
   "metadata": {
    "language": "sql",
    "name": "cell20"
   },
   "outputs": [],
   "source": [
    "select * from comprehensive_call_analysis;"
   ]
  },
  {
   "cell_type": "code",
   "execution_count": null,
   "id": "ce110000-1111-2222-3333-ffffff000005",
   "metadata": {
    "language": "python",
    "name": "cell6"
   },
   "outputs": [],
   "source": [
    "# Create semantic model YAML for Cortex Analyst\n",
    "semantic_model = {\n",
    "    'name': 'call_center_analytics_model',\n",
    "    'description': 'Semantic model for call center analytics with AI transcription data, enabling natural language queries about call performance, agent effectiveness, and customer satisfaction',\n",
    "    'tables': [{\n",
    "        'name': 'comprehensive_call_analysis',\n",
    "        'description': 'Main table containing transcribed call data with AI-extracted insights including sentiment analysis, agent performance metrics, and customer satisfaction scores',\n",
    "        'base_table': {\n",
    "            'database': session.get_current_database(),\n",
    "            'schema': session.get_current_schema(),\n",
    "            'table': 'comprehensive_call_analysis'\n",
    "        },\n",
    "        'dimensions': [\n",
    "            {\n",
    "                'name': 'call_id',\n",
    "                'data_type': 'TEXT',\n",
    "                'description': 'Unique identifier for each call',\n",
    "                'expr': 'call_id',\n",
    "                'synonyms': ['call identifier', 'call number', 'call reference']\n",
    "            },\n",
    "            {\n",
    "                'name': 'agent_name', \n",
    "                'data_type': 'TEXT',\n",
    "                'description': 'Name of the customer service agent handling the call',\n",
    "                'expr': 'agent_name',\n",
    "                'synonyms': ['agent', 'representative', 'rep', 'customer service agent', 'support agent']\n",
    "            },\n",
    "            {\n",
    "                'name': 'customer_name',\n",
    "                'data_type': 'TEXT', \n",
    "                'description': 'Name of the customer making the call',\n",
    "                'expr': 'customer_name',\n",
    "                'synonyms': ['customer', 'caller', 'client']\n",
    "            },\n",
    "            {\n",
    "                'name': 'primary_intent',\n",
    "                'data_type': 'TEXT',\n",
    "                'description': 'Primary reason for the call (billing, technical_support, complaint, information, sales, cancellation, other)',\n",
    "                'expr': 'primary_intent',\n",
    "                'synonyms': ['call reason', 'intent', 'purpose', 'call type', 'issue type'],\n",
    "                'sample_values': ['billing', 'technical_support', 'complaint', 'information', 'sales', 'cancellation', 'other']\n",
    "            },\n",
    "            {\n",
    "                'name': 'customer_satisfaction',\n",
    "                'data_type': 'TEXT',\n",
    "                'description': 'Customer satisfaction level determined from call analysis',\n",
    "                'expr': 'customer_satisfaction',\n",
    "                'synonyms': ['satisfaction', 'csat', 'customer satisfaction level', 'satisfaction level'],\n",
    "                'sample_values': ['satisfied', 'neutral', 'dissatisfied']\n",
    "            },\n",
    "            {\n",
    "                'name': 'sentiment_category',\n",
    "                'data_type': 'TEXT',\n",
    "                'description': 'Overall sentiment classification of the call conversation',\n",
    "                'expr': 'sentiment_category',\n",
    "                'synonyms': ['sentiment', 'mood', 'emotional tone', 'call sentiment'],\n",
    "                'sample_values': ['POSITIVE', 'NEGATIVE', 'NEUTRAL']\n",
    "            },\n",
    "            {\n",
    "                'name': 'issue_resolved',\n",
    "                'data_type': 'TEXT',\n",
    "                'description': 'Whether the customer issue was resolved during the call',\n",
    "                'expr': 'issue_resolved',\n",
    "                'synonyms': ['resolved', 'resolution status', 'issue status'],\n",
    "                'sample_values': ['yes', 'no']\n",
    "            },\n",
    "            {\n",
    "                'name': 'escalation_required',\n",
    "                'data_type': 'TEXT',\n",
    "                'description': 'Whether the call required escalation to higher level support',\n",
    "                'expr': 'escalation_required',\n",
    "                'synonyms': ['escalated', 'escalation', 'escalation status'],\n",
    "                'sample_values': ['yes', 'no']\n",
    "            }\n",
    "        ],\n",
    "        'time_dimensions': [\n",
    "            {\n",
    "                'name': 'analysis_timestamp',\n",
    "                'data_type': 'TIMESTAMP_NTZ',\n",
    "                'description': 'Timestamp when the call analysis was completed',\n",
    "                'expr': 'analysis_timestamp',\n",
    "                'synonyms': ['call date', 'call time', 'timestamp', 'analysis date']\n",
    "            }\n",
    "        ],\n",
    "        'facts': [\n",
    "            {\n",
    "                'name': 'sentiment_score',\n",
    "                'data_type': 'NUMBER',\n",
    "                'description': 'Numerical sentiment score for the call ranging from -1 (very negative) to 1 (very positive)',\n",
    "                'expr': 'sentiment_score',\n",
    "                'synonyms': ['sentiment rating', 'emotional score']\n",
    "            },\n",
    "            {\n",
    "                'name': 'agent_performance_score',\n",
    "                'data_type': 'NUMBER',\n",
    "                'description': 'Performance score for the agent on a 1-10 scale based on call handling effectiveness',\n",
    "                'expr': 'agent_performance_score',\n",
    "                'synonyms': ['agent score', 'performance rating', 'agent rating']\n",
    "            },\n",
    "            {\n",
    "                'name': 'word_count',\n",
    "                'data_type': 'NUMBER',\n",
    "                'description': 'Total number of words in the call transcript',\n",
    "                'expr': 'word_count',\n",
    "                'synonyms': ['transcript length', 'call length', 'conversation length']\n",
    "            }\n",
    "        ],\n",
    "        'metrics': [\n",
    "            {\n",
    "                'name': 'total_calls',\n",
    "                'description': 'Total number of calls',\n",
    "                'expr': 'COUNT(*)',\n",
    "                'synonyms': ['call count', 'number of calls', 'call volume']\n",
    "            },\n",
    "            {\n",
    "                'name': 'avg_sentiment_score',\n",
    "                'description': 'Average sentiment score across calls',\n",
    "                'expr': 'AVG(sentiment_score)',\n",
    "                'synonyms': ['average sentiment', 'mean sentiment', 'sentiment average']\n",
    "            },\n",
    "            {\n",
    "                'name': 'avg_agent_performance',\n",
    "                'description': 'Average agent performance score',\n",
    "                'expr': 'AVG(agent_performance_score)',\n",
    "                'synonyms': ['average agent score', 'mean agent performance', 'agent performance average']\n",
    "            },\n",
    "            {\n",
    "                'name': 'resolution_rate',\n",
    "                'description': 'Percentage of calls with issues resolved successfully',\n",
    "                'expr': 'SUM(CASE WHEN issue_resolved = \\'yes\\' THEN 1 ELSE 0 END) / COUNT(*) * 100',\n",
    "                'synonyms': ['resolution percentage', 'success rate', 'issue resolution rate']\n",
    "            },\n",
    "            {\n",
    "                'name': 'satisfaction_rate',\n",
    "                'description': 'Percentage of customers who were satisfied with the call',\n",
    "                'expr': 'SUM(CASE WHEN customer_satisfaction = \\'satisfied\\' THEN 1 ELSE 0 END) / COUNT(*) * 100',\n",
    "                'synonyms': ['satisfaction percentage', 'customer satisfaction rate', 'csat rate']\n",
    "            },\n",
    "            {\n",
    "                'name': 'escalation_rate',\n",
    "                'description': 'Percentage of calls that required escalation',\n",
    "                'expr': 'SUM(CASE WHEN escalation_required = \\'yes\\' THEN 1 ELSE 0 END) / COUNT(*) * 100',\n",
    "                'synonyms': ['escalation percentage', 'escalation ratio']\n",
    "            },\n",
    "            {\n",
    "                'name': 'positive_sentiment_rate',\n",
    "                'description': 'Percentage of calls with positive sentiment',\n",
    "                'expr': 'SUM(CASE WHEN sentiment_category = \\'POSITIVE\\' THEN 1 ELSE 0 END) / COUNT(*) * 100',\n",
    "                'synonyms': ['positive sentiment percentage', 'positive call rate']\n",
    "            }\n",
    "        ],\n",
    "        'filters': [\n",
    "            {\n",
    "                'name': 'recent_calls',\n",
    "                'description': 'Filter for calls from the last 30 days',\n",
    "                'expr': 'analysis_timestamp >= DATEADD(day, -30, CURRENT_DATE())',\n",
    "                'synonyms': ['recent', 'last 30 days', 'past month']\n",
    "            },\n",
    "            {\n",
    "                'name': 'resolved_calls',\n",
    "                'description': 'Filter for calls where issues were resolved',\n",
    "                'expr': 'issue_resolved = \\'yes\\'',\n",
    "                'synonyms': ['successful calls', 'resolved issues']\n",
    "            },\n",
    "            {\n",
    "                'name': 'escalated_calls',\n",
    "                'description': 'Filter for calls that required escalation',\n",
    "                'expr': 'escalation_required = \\'yes\\'',\n",
    "                'synonyms': ['escalated', 'escalation required']\n",
    "            }\n",
    "        ]\n",
    "    }],\n",
    "    'verified_queries': [\n",
    "        {\n",
    "            'name': 'agent_performance_summary',\n",
    "            'question': 'What is the average performance score by agent?',\n",
    "            'sql': 'SELECT agent_name, AVG(agent_performance_score) as avg_performance FROM comprehensive_call_analysis GROUP BY agent_name ORDER BY avg_performance DESC'\n",
    "        },\n",
    "        {\n",
    "            'name': 'resolution_rate_by_intent', \n",
    "            'question': 'What is the resolution rate by call intent?',\n",
    "            'sql': 'SELECT primary_intent, SUM(CASE WHEN issue_resolved = \\'yes\\' THEN 1 ELSE 0 END) / COUNT(*) * 100 as resolution_rate FROM comprehensive_call_analysis GROUP BY primary_intent ORDER BY resolution_rate DESC'\n",
    "        },\n",
    "        {\n",
    "            'name': 'daily_call_volume',\n",
    "            'question': 'How many calls do we get per day?',\n",
    "            'sql': 'SELECT DATE(analysis_timestamp) as call_date, COUNT(*) as daily_calls FROM comprehensive_call_analysis GROUP BY DATE(analysis_timestamp) ORDER BY call_date DESC'\n",
    "        }\n",
    "    ]\n",
    "}\n",
    "\n",
    "# Convert to YAML\n",
    "semantic_model_yaml = yaml.dump(semantic_model, default_flow_style=False, sort_keys=False)\n",
    "\n",
    "print(\"✅ Semantic model created - REMOVED invalid data_type from metrics\")\n",
    "print(\"Preview of semantic model YAML:\")\n",
    "print(semantic_model_yaml[:500] + \"...\") "
   ]
  },
  {
   "cell_type": "code",
   "execution_count": null,
   "id": "ce110000-1111-2222-3333-ffffff000006",
   "metadata": {
    "language": "python",
    "name": "cell7"
   },
   "outputs": [],
   "source": [
    "# Save semantic model to stage\n",
    "with open('/tmp/call_center_semantic_model.yaml', 'w') as f:\n",
    "    f.write(semantic_model_yaml)\n",
    "\n",
    "# Upload to Snowflake stage\n",
    "session.file.put('/tmp/call_center_semantic_model.yaml', '@cortex_models/semantic_models/', auto_compress=False, overwrite=True)\n",
    "\n",
    "print(\"✅ Semantic model uploaded to stage: @cortex_models/semantic_models/call_center_semantic_model.yaml\")\n"
   ]
  },
  {
   "cell_type": "markdown",
   "id": "ce110000-1111-2222-3333-ffffff000007",
   "metadata": {
    "name": "cell8"
   },
   "source": [
    "## Step 3: Create Cortex Search Service\n"
   ]
  },
  {
   "cell_type": "code",
   "execution_count": null,
   "id": "ce110000-1111-2222-3333-ffffff000008",
   "metadata": {
    "language": "sql",
    "name": "cell9",
    "vscode": {
     "languageId": "sql"
    }
   },
   "outputs": [],
   "source": [
    "-- Create Cortex Search Service for call transcripts\n",
    "-- Note: Using current warehouse context, change WAREHOUSE if needed\n",
    "CREATE OR REPLACE CORTEX SEARCH SERVICE call_center_search\n",
    "ON transcript_text\n",
    "ATTRIBUTES call_id, agent_name, customer_name, primary_intent, sentiment_category, customer_satisfaction\n",
    "WAREHOUSE = GOOGLE_ANALYTICS_DS_WH  -- Change this to your warehouse name if different\n",
    "TARGET_LAG = '1 minute'\n",
    "AS (\n",
    "    SELECT \n",
    "        call_id,\n",
    "        agent_name,\n",
    "        customer_name, \n",
    "        primary_intent,\n",
    "        sentiment_category,\n",
    "        customer_satisfaction,\n",
    "        transcript_text\n",
    "    FROM comprehensive_call_analysis\n",
    "    WHERE transcript_text IS NOT NULL\n",
    "    AND LENGTH(transcript_text) > 50\n",
    ");\n"
   ]
  },
  {
   "cell_type": "code",
   "execution_count": null,
   "id": "ce110000-1111-2222-3333-ffffff000009",
   "metadata": {
    "language": "sql",
    "name": "cell10",
    "vscode": {
     "languageId": "sql"
    }
   },
   "outputs": [],
   "source": [
    "-- Check the status of the search service\n",
    "SHOW CORTEX SEARCH SERVICES;\n"
   ]
  },
  {
   "cell_type": "markdown",
   "id": "ce110000-1111-2222-3333-ffffff000010",
   "metadata": {
    "name": "cell11"
   },
   "source": [
    "## Step 4: Test Cortex Search Service\n"
   ]
  },
  {
   "cell_type": "code",
   "execution_count": null,
   "id": "ce110000-1111-2222-3333-ffffff000011",
   "metadata": {
    "language": "sql",
    "name": "cell12",
    "vscode": {
     "languageId": "sql"
    }
   },
   "outputs": [],
   "source": [
    "-- Test the search service with a sample query\n",
    "SELECT\n",
    "    SNOWFLAKE.CORTEX.SEARCH_PREVIEW(\n",
    "        'call_center_search',\n",
    "        '{\n",
    "            \"query\": \"billing complaint negative sentiment\",\n",
    "            \"limit\": 5\n",
    "        }'\n",
    "    ) as search_results;"
   ]
  },
  {
   "cell_type": "markdown",
   "id": "ce110000-1111-2222-3333-ffffff000012",
   "metadata": {
    "name": "cell13"
   },
   "source": [
    "## Step 5: Create Additional Views for Analytics\n"
   ]
  },
  {
   "cell_type": "code",
   "execution_count": null,
   "id": "ce110000-1111-2222-3333-ffffff000013",
   "metadata": {
    "language": "sql",
    "name": "cell14",
    "vscode": {
     "languageId": "sql"
    }
   },
   "outputs": [],
   "source": [
    "-- Create a summary view for KPIs\n",
    "CREATE OR REPLACE VIEW call_center_kpis AS\n",
    "SELECT \n",
    "    COUNT(*) as total_calls,\n",
    "    COUNT(DISTINCT agent_name) as unique_agents,\n",
    "    ROUND(AVG(sentiment_score), 3) as avg_sentiment_score,\n",
    "    ROUND(AVG(agent_performance_score), 1) as avg_agent_performance,\n",
    "    ROUND(SUM(CASE WHEN issue_resolved = 'yes' THEN 1 ELSE 0 END) / COUNT(*) * 100, 1) as resolution_rate_pct,\n",
    "    ROUND(SUM(CASE WHEN customer_satisfaction = 'satisfied' THEN 1 ELSE 0 END) / COUNT(*) * 100, 1) as satisfaction_rate_pct,\n",
    "    ROUND(SUM(CASE WHEN escalation_required = 'yes' THEN 1 ELSE 0 END) / COUNT(*) * 100, 1) as escalation_rate_pct,\n",
    "    ROUND(SUM(CASE WHEN sentiment_score > 0.1 THEN 1 ELSE 0 END) / COUNT(*) * 100, 1) as positive_sentiment_pct,\n",
    "    MODE(primary_intent) as top_call_intent,\n",
    "    ROUND(AVG(word_count), 0) as avg_call_length_words\n",
    "FROM comprehensive_call_analysis\n",
    "WHERE agent_name IS NOT NULL \n",
    "AND agent_name != 'Not Available';\n"
   ]
  },
  {
   "cell_type": "markdown",
   "id": "ce110000-1111-2222-3333-ffffff000014",
   "metadata": {
    "name": "cell15"
   },
   "source": [
    "### Additional Views for Streamlit App\n",
    "\n",
    "The Streamlit application requires additional views for agent performance analysis.\n"
   ]
  },
  {
   "cell_type": "code",
   "execution_count": null,
   "id": "ce110000-1111-2222-3333-ffffff000015",
   "metadata": {
    "language": "sql",
    "name": "cell16",
    "vscode": {
     "languageId": "sql"
    }
   },
   "outputs": [],
   "source": [
    "-- Test our views\n",
    "SELECT * FROM call_center_kpis;\n"
   ]
  },
  {
   "cell_type": "code",
   "execution_count": null,
   "id": "ce110000-1111-2222-3333-ffffff000016",
   "metadata": {
    "language": "sql",
    "name": "cell17",
    "vscode": {
     "languageId": "sql"
    }
   },
   "outputs": [],
   "source": [
    "-- Create agent performance summary view for Streamlit app\n",
    "CREATE OR REPLACE VIEW agent_performance_summary AS\n",
    "SELECT \n",
    "    agent_name,\n",
    "    COUNT(*) as total_calls,\n",
    "    ROUND(AVG(sentiment_score), 3) as avg_sentiment,\n",
    "    ROUND(AVG(agent_performance_score), 1) as avg_performance_score,\n",
    "    \n",
    "    -- Resolution effectiveness\n",
    "    SUM(CASE WHEN issue_resolved = 'yes' THEN 1 ELSE 0 END) as resolved_calls,\n",
    "    ROUND(SUM(CASE WHEN issue_resolved = 'yes' THEN 1 ELSE 0 END) / COUNT(*) * 100, 1) as resolution_rate,\n",
    "    \n",
    "    -- Customer satisfaction\n",
    "    SUM(CASE WHEN customer_satisfaction = 'satisfied' THEN 1 ELSE 0 END) as satisfied_customers,\n",
    "    ROUND(SUM(CASE WHEN customer_satisfaction = 'satisfied' THEN 1 ELSE 0 END) / COUNT(*) * 100, 1) as satisfaction_rate,\n",
    "    \n",
    "    -- Escalation patterns\n",
    "    SUM(CASE WHEN escalation_required = 'yes' THEN 1 ELSE 0 END) as escalations,\n",
    "    ROUND(SUM(CASE WHEN escalation_required = 'yes' THEN 1 ELSE 0 END) / COUNT(*) * 100, 1) as escalation_rate\n",
    "    \n",
    "FROM comprehensive_call_analysis\n",
    "WHERE agent_name != 'Not Available' AND agent_name IS NOT NULL\n",
    "GROUP BY agent_name\n",
    "ORDER BY avg_performance_score DESC;\n"
   ]
  },
  {
   "cell_type": "markdown",
   "id": "ce110000-1111-2222-3333-ffffff000017",
   "metadata": {
    "name": "cell18"
   },
   "source": [
    "## Step 6: Configuration Summary\n",
    "\n",
    "✅ **Setup Complete!** The following services are now ready:\n",
    "\n",
    "### 🔍 **Cortex Search Service**\n",
    "- **Name**: `call_center_search`\n",
    "- **Purpose**: Semantic search over call transcripts\n",
    "- **Usage**: Find relevant calls based on natural language queries\n",
    "\n",
    "### 📊 **Cortex Analyst Semantic Model**\n",
    "- **Location**: `@cortex_models/semantic_models/call_center_semantic_model.yaml`\n",
    "- **Purpose**: Enable natural language to SQL queries\n",
    "- **Usage**: Ask questions about call center metrics in plain English\n",
    "\n",
    "### 📈 **Views Created**\n",
    "- `call_center_kpis`: Overall KPI summary\n",
    "- `agent_performance_summary`: Agent performance metrics for detailed analysis\n",
    "\n",
    "### 🎯 **Ready for Streamlit App**\n",
    "The new Streamlit application can now use:\n",
    "- Cortex Agents with both search and analyst capabilities\n",
    "- Pre-built views for dashboard KPIs and agent performance\n",
    "- Rich analytics from AI_TRANSCRIBE data\n"
   ]
  }
 ],
 "metadata": {
  "language_info": {
   "name": "python"
  },
  "lastEditStatus": {
   "authorEmail": "charlie.hammond@snowflake.com",
   "authorId": "3301574078015",
   "authorName": "CHAMMOND_SFC",
   "lastEditTime": 1753465674987,
   "notebookId": "2zfolexpdu7sk3gq4p2p",
   "sessionId": "db3e0695-f34b-42ee-89eb-b1bc74919023"
  }
 },
 "nbformat": 4,
 "nbformat_minor": 2
}
