{
 "cells": [
  {
   "cell_type": "markdown",
   "id": "ce110000-1111-2222-3333-ffffff000000",
   "metadata": {
    "name": "cell1"
   },
   "source": [
    "# Advanced Call Center Analytics with AI_TRANSCRIBE\n",
    "\n",
    "This notebook demonstrates the power of Snowflake's AI_TRANSCRIBE function combined with other Cortex AI functions to extract valuable insights from call center audio files. We will:\n",
    "\n",
    "- **Transcribe** audio files using the new AI_TRANSCRIBE function\n",
    "- **Analyze** call patterns and trends using Cortex Complete\n",
    "- **Extract** key metrics and insights using structured prompts\n",
    "- **Classify** calls by intent, urgency, and satisfaction\n",
    "- **Discover** anomalies and opportunities for improvement\n",
    "- **Generate** actionable recommendations for call center optimization\n",
    "\n",
    "## Key Features of AI_TRANSCRIBE\n",
    "- High-quality transcription using latest AI models\n",
    "- Support for 40+ languages\n",
    "- Maximum file size: 700 MB\n",
    "- Maximum duration: 90 minutes\n",
    "- Supports .mp3 and .wav formats\n"
   ]
  },
  {
   "cell_type": "code",
   "execution_count": null,
   "id": "ce110000-1111-2222-3333-ffffff000001",
   "metadata": {
    "language": "python",
    "name": "cell2"
   },
   "outputs": [],
   "source": [
    "# Import required packages\n",
    "import pandas as pd\n",
    "import json\n",
    "import numpy as np\n",
    "import time\n",
    "from datetime import datetime, timedelta\n",
    "import streamlit as st\n",
    "\n",
    "from snowflake.snowpark import Session, DataFrame\n",
    "from snowflake.snowpark import functions as F\n",
    "from snowflake.snowpark import types as T\n",
    "from snowflake.snowpark.version import VERSION\n",
    "\n",
    "# Get active session\n",
    "session = get_active_session()\n",
    "session.use_role(\"call_center_analytics_role\")\n",
    "session.use_schema(\"analytics\")\n",
    "\n",
    "# Add query tag for monitoring\n",
    "session.query_tag = {\"origin\":\"sf_sit\", \"name\":\"call_center_analytics_2\", \"version\":{\"major\":1, \"minor\":0}, \"attributes\":{\"is_quickstart\":1, \"source\":\"notebook\"}}\n",
    "\n",
    "print(f\"❄️ Snowflake Session Details:\")\n",
    "print(f\"Role: {session.get_current_role()}\")\n",
    "print(f\"Warehouse: {session.get_current_warehouse()}\")\n",
    "print(f\"Database.Schema: {session.get_fully_qualified_current_schema()}\")\n",
    "print(f\"Snowpark Version: {VERSION}\")\n"
   ]
  },
  {
   "cell_type": "code",
   "execution_count": null,
   "id": "ce110000-1111-2222-3333-ffffff000005",
   "metadata": {
    "language": "sql",
    "name": "cell3",
    "vscode": {
     "languageId": "sql"
    }
   },
   "outputs": [],
   "source": [
    "-- List files in the stage\n",
    "LIST @audio_files/;"
   ]
  },
  {
   "cell_type": "markdown",
   "id": "ce110000-1111-2222-3333-ffffff000006",
   "metadata": {
    "name": "cell4"
   },
   "source": [
    "## Transcribing Audio Files with AI_TRANSCRIBE\n",
    "\n",
    "Now we'll use AI_TRANSCRIBE to convert our audio files into text. We'll create a table to store FILE objects and process them in batch.\n"
   ]
  },
  {
   "cell_type": "code",
   "execution_count": null,
   "id": "ce110000-1111-2222-3333-ffffff000007",
   "metadata": {
    "language": "sql",
    "name": "cell5",
    "vscode": {
     "languageId": "sql"
    }
   },
   "outputs": [],
   "source": [
    "-- Create table with FILE objects for batch transcription\n",
    "CREATE OR REPLACE TABLE audio_files_for_transcription AS\n",
    "SELECT \n",
    "    RELATIVE_PATH as file_path,\n",
    "    TO_FILE('@audio_files', RELATIVE_PATH) as audio_file,\n",
    "    SIZE as file_size_bytes,\n",
    "    LAST_MODIFIED as upload_time,\n",
    "    SPLIT_PART(RELATIVE_PATH, '.', -1) as file_extension,\n",
    "    REPLACE(RELATIVE_PATH, '.mp3', '') as call_id\n",
    "FROM DIRECTORY('@audio_files')\n",
    "WHERE RELATIVE_PATH ILIKE '%.mp3' OR RELATIVE_PATH ILIKE '%.wav';\n"
   ]
  },
  {
   "cell_type": "code",
   "execution_count": null,
   "id": "ce110000-1111-2222-3333-ffffff000008",
   "metadata": {
    "language": "sql",
    "name": "cell6",
    "vscode": {
     "languageId": "sql"
    }
   },
   "outputs": [],
   "source": [
    "-- Perform AI transcription and save results\n",
    "-- 🎙️ Starting AI transcription process...\n",
    "CREATE OR REPLACE TABLE ai_transcribed_calls AS\n",
    "SELECT \n",
    "    call_id,\n",
    "    file_path,\n",
    "    file_size_bytes,\n",
    "    upload_time,\n",
    "    AI_TRANSCRIBE(audio_file) as transcription_result,\n",
    "    transcription_result:text::STRING as transcript_text,\n",
    "    CURRENT_TIMESTAMP() as transcription_timestamp,\n",
    "    LENGTH(transcription_result:text::STRING) as transcript_length,\n",
    "    ARRAY_SIZE(SPLIT(transcription_result:text::STRING, ' ')) as word_count,\n",
    "    CASE \n",
    "        WHEN transcription_result:text IS NULL THEN 'FAILED'\n",
    "        WHEN LENGTH(transcription_result:text::STRING) < 10 THEN 'SHORT'\n",
    "        ELSE 'SUCCESS'\n",
    "    END as transcription_status\n",
    "FROM audio_files_for_transcription\n",
    "ORDER BY file_size_bytes ASC;  -- Start with smaller files\n"
   ]
  },
  {
   "cell_type": "code",
   "execution_count": null,
   "id": "42831e4d-3d2e-47cb-af7d-b098ead98717",
   "metadata": {
    "language": "python",
    "name": "cell7"
   },
   "outputs": [],
   "source": [
    "# let's play an example audio file before looking at the transcript\n",
    "# with Snowflake notebooks, you can use Streamlit components directly\n",
    "stage_path = \"@call_center_analytics_db.analytics.audio_files/CALL_20250728_10050.mp3\"\n",
    "\n",
    "try:\n",
    "    # Read the audio file from the internal stage as bytes\n",
    "    with session.file.get_stream(stage_path) as f:\n",
    "        audio_bytes = f.read()\n",
    "\n",
    "    # Use st.audio to play the MP3\n",
    "    # Specify the format as \"audio/mpeg\" for MP3s\n",
    "    st.audio(audio_bytes, format=\"audio/mpeg\", start_time=0)\n",
    "\n",
    "    st.success(f\"Successfully loaded and playing: {stage_path}\")\n",
    "\n",
    "except Exception as e:\n",
    "    st.error(f\"Error loading or playing audio: {e}\")\n",
    "    st.info(\"Please ensure the audio file exists on the stage and the stage path is correct.\")"
   ]
  },
  {
   "cell_type": "code",
   "execution_count": null,
   "id": "517aa989-753a-4795-a669-0f7d4c90b6a5",
   "metadata": {
    "language": "sql",
    "name": "cell8"
   },
   "outputs": [],
   "source": [
    "-- View example transcript\n",
    "SELECT\n",
    "    transcript_text\n",
    "FROM ai_transcribed_calls\n",
    "WHERE call_id = 'CALL_20250728_10050';"
   ]
  },
  {
   "cell_type": "code",
   "execution_count": null,
   "id": "ce110000-1111-2222-3333-ffffff000009",
   "metadata": {
    "language": "sql",
    "name": "cell9",
    "vscode": {
     "languageId": "sql"
    }
   },
   "outputs": [],
   "source": [
    "-- View transcription results summary\n",
    "SELECT \n",
    "    transcription_status,\n",
    "    COUNT(*) as call_count,\n",
    "    AVG(word_count) as avg_word_count,\n",
    "    AVG(transcript_length) as avg_transcript_length\n",
    "FROM ai_transcribed_calls\n",
    "GROUP BY transcription_status\n",
    "ORDER BY call_count DESC;\n"
   ]
  },
  {
   "cell_type": "markdown",
   "id": "ce110000-1111-2222-3333-ffffff000010",
   "metadata": {
    "name": "cell10"
   },
   "source": [
    "## Advanced Analytics with Cortex Functions\n",
    "\n",
    "Now we'll use various Cortex AI functions to extract meaningful insights from our transcriptions.\n"
   ]
  },
  {
   "cell_type": "code",
   "execution_count": null,
   "id": "ce110000-1111-2222-3333-ffffff000011",
   "metadata": {
    "language": "sql",
    "name": "cell11",
    "vscode": {
     "languageId": "sql"
    }
   },
   "outputs": [],
   "source": [
    "-- 🔍 Performing advanced AI analysis on transcriptions...\n",
    "-- Create comprehensive structured analysis using AI_COMPLETE\n",
    "CREATE OR REPLACE TABLE comprehensive_call_analysis AS\n",
    "SELECT \n",
    "    call_id,\n",
    "    transcript_text,\n",
    "    word_count,\n",
    "    \n",
    "    -- Sentiment Analysis\n",
    "    SNOWFLAKE.CORTEX.SENTIMENT(transcript_text) as sentiment_score,\n",
    "    CASE \n",
    "        WHEN SNOWFLAKE.CORTEX.SENTIMENT(transcript_text) > 0.1 THEN 'POSITIVE'\n",
    "        WHEN SNOWFLAKE.CORTEX.SENTIMENT(transcript_text) < -0.1 THEN 'NEGATIVE'\n",
    "        ELSE 'NEUTRAL'\n",
    "    END as sentiment_category,\n",
    "    \n",
    "    -- Call Summary\n",
    "    SNOWFLAKE.CORTEX.SUMMARIZE(transcript_text) as call_summary,\n",
    "    \n",
    "    -- Advanced structured extraction using AI_COMPLETE with JSON response format\n",
    "    AI_COMPLETE(\n",
    "        model => 'claude-4-sonnet',\n",
    "        prompt => 'Analyze this call center conversation and extract structured information. Call transcript: ' || transcript_text,\n",
    "        model_parameters => {'temperature': 0.1, 'max_tokens': 2048},\n",
    "        response_format => {\n",
    "            'type': 'json',\n",
    "            'schema': {\n",
    "                'type': 'object',\n",
    "                'properties': {\n",
    "                    'call_type': {'type': 'string', 'enum': ['inbound', 'outbound', 'transfer']},\n",
    "                    'customer_name': {'type': 'string'},\n",
    "                    'agent_name': {'type': 'string'},\n",
    "                    'primary_intent': {'type': 'string', 'enum': ['billing', 'technical_support', 'complaint', 'information', 'sales', 'cancellation', 'other']},\n",
    "                    'urgency_level': {'type': 'string', 'enum': ['low', 'medium', 'high', 'critical']},\n",
    "                    'issue_resolved': {'type': 'string', 'enum': ['yes', 'no', 'partial']},\n",
    "                    'escalation_required': {'type': 'string', 'enum': ['yes', 'no']},\n",
    "                    'customer_satisfaction': {'type': 'string', 'enum': ['satisfied', 'neutral', 'dissatisfied']},\n",
    "                    'call_duration_estimate': {'type': 'string', 'enum': ['short', 'medium', 'long']},\n",
    "                    'key_issues': {'type': 'array', 'items': {'type': 'string'}},\n",
    "                    'action_items': {'type': 'array', 'items': {'type': 'string'}},\n",
    "                    'policy_numbers': {'type': 'array', 'items': {'type': 'string'}},\n",
    "                    'monetary_amounts': {'type': 'array', 'items': {'type': 'string'}},\n",
    "                    'appointment_scheduled': {'type': 'string', 'enum': ['yes', 'no']},\n",
    "                    'callback_requested': {'type': 'string', 'enum': ['yes', 'no']}\n",
    "                },\n",
    "                'required': ['call_type', 'customer_name', 'agent_name', 'primary_intent', 'urgency_level', 'issue_resolved', 'escalation_required', 'customer_satisfaction']\n",
    "            }\n",
    "        }\n",
    "    ) as call_analysis,\n",
    "    \n",
    "    -- Quality scoring with AI_COMPLETE\n",
    "    TRY_CAST(\n",
    "        AI_COMPLETE(\n",
    "            model => 'claude-4-sonnet',\n",
    "            prompt => 'Rate this call center conversation on a scale of 1-10 for agent performance considering: professionalism, problem-solving, communication clarity, and customer service. Provide only the numeric score (no text). If you cannot determine a score, return null and nothing else: ' || transcript_text,\n",
    "            model_parameters => {'temperature': 0, 'max_tokens': 10}\n",
    "       )::VARCHAR AS NUMBER(3,1)\n",
    "    ) as agent_performance_score,\n",
    "    \n",
    "    -- Identify improvement opportunities using AI_COMPLETE\n",
    "    AI_COMPLETE(\n",
    "        model => 'claude-4-sonnet',\n",
    "        prompt => 'List 3 specific improvement opportunities for this call center conversation in bullet points: ' || transcript_text,\n",
    "        model_parameters => {'temperature': 0.3, 'max_tokens': 500}\n",
    "    ) as improvement_opportunities,\n",
    "\n",
    "    CURRENT_TIMESTAMP() as analysis_timestamp\n",
    "    \n",
    "FROM ai_transcribed_calls\n",
    "WHERE transcription_status = 'SUCCESS'\n",
    "AND transcript_text IS NOT NULL\n",
    "AND LENGTH(transcript_text) > 50;  -- Filter out very short transcripts\n"
   ]
  },
  {
   "cell_type": "code",
   "execution_count": null,
   "id": "2a960e7a-317a-4c10-a96f-52e373cd4134",
   "metadata": {
    "codeCollapsed": false,
    "language": "sql",
    "name": "cell12"
   },
   "outputs": [],
   "source": [
    "-- preview the data\n",
    "SELECT * FROM comprehensive_call_analysis;"
   ]
  },
  {
   "cell_type": "code",
   "execution_count": null,
   "id": "ce110000-1111-2222-3333-ffffff000012",
   "metadata": {
    "language": "sql",
    "name": "cell13",
    "vscode": {
     "languageId": "sql"
    }
   },
   "outputs": [],
   "source": [
    "-- Extract JSON fields for easier querying\n",
    "ALTER TABLE comprehensive_call_analysis \n",
    "ADD COLUMN \n",
    "    call_type STRING,\n",
    "    customer_name STRING,\n",
    "    agent_name STRING,\n",
    "    primary_intent STRING,\n",
    "    urgency_level STRING,\n",
    "    issue_resolved STRING,\n",
    "    escalation_required STRING,\n",
    "    customer_satisfaction STRING;\n",
    "\n",
    "\n",
    "UPDATE comprehensive_call_analysis\n",
    "SET\n",
    "    call_type = call_analysis:call_type::STRING,\n",
    "    customer_name = call_analysis:customer_name::STRING,\n",
    "    agent_name = call_analysis:agent_name::STRING,\n",
    "    primary_intent = call_analysis:primary_intent::STRING,\n",
    "    urgency_level = call_analysis:urgency_level::STRING,\n",
    "    issue_resolved = call_analysis:issue_resolved::STRING,\n",
    "    escalation_required = call_analysis:escalation_required::STRING,\n",
    "    customer_satisfaction = call_analysis:customer_satisfaction::STRING;"
   ]
  },
  {
   "cell_type": "code",
   "execution_count": null,
   "id": "ce110000-1111-2222-3333-ffffff000013",
   "metadata": {
    "language": "sql",
    "name": "cell14",
    "vscode": {
     "languageId": "sql"
    }
   },
   "outputs": [],
   "source": [
    "-- 📊 Analysis Summary\n",
    "SELECT \n",
    "    COUNT(*) as total_calls,\n",
    "    ROUND(AVG(sentiment_score), 3) as avg_sentiment,\n",
    "    ROUND(AVG(agent_performance_score), 1) as avg_agent_score,\n",
    "    COUNT(DISTINCT agent_name) as unique_agents,\n",
    "    COUNT(DISTINCT primary_intent) as unique_call_types\n",
    "FROM comprehensive_call_analysis;\n"
   ]
  },
  {
   "cell_type": "markdown",
   "id": "ce110000-1111-2222-3333-ffffff000014",
   "metadata": {
    "name": "cell15"
   },
   "source": [
    "## Discovering Key Insights and Patterns\n",
    "\n",
    "Let's analyze the data to uncover interesting patterns and actionable insights.\n"
   ]
  },
  {
   "cell_type": "code",
   "execution_count": null,
   "id": "ce110000-1111-2222-3333-ffffff000015",
   "metadata": {
    "language": "sql",
    "name": "cell16",
    "vscode": {
     "languageId": "sql"
    }
   },
   "outputs": [],
   "source": [
    "-- 🏆 Agent Performance Analysis\n",
    "SELECT \n",
    "    agent_name,\n",
    "    COUNT(*) as total_calls,\n",
    "    ROUND(AVG(sentiment_score), 3) as avg_sentiment,\n",
    "    ROUND(AVG(agent_performance_score), 1) as avg_performance_score,\n",
    "    \n",
    "    -- Resolution effectiveness\n",
    "    SUM(CASE WHEN issue_resolved = 'yes' THEN 1 ELSE 0 END) as resolved_calls,\n",
    "    ROUND(SUM(CASE WHEN issue_resolved = 'yes' THEN 1 ELSE 0 END) / COUNT(*) * 100, 1) as resolution_rate,\n",
    "    \n",
    "    -- Customer satisfaction\n",
    "    SUM(CASE WHEN customer_satisfaction = 'satisfied' THEN 1 ELSE 0 END) as satisfied_customers,\n",
    "    ROUND(SUM(CASE WHEN customer_satisfaction = 'satisfied' THEN 1 ELSE 0 END) / COUNT(*) * 100, 1) as satisfaction_rate,\n",
    "    \n",
    "    -- Escalation patterns\n",
    "    SUM(CASE WHEN escalation_required = 'yes' THEN 1 ELSE 0 END) as escalations,\n",
    "    ROUND(SUM(CASE WHEN escalation_required = 'yes' THEN 1 ELSE 0 END) / COUNT(*) * 100, 1) as escalation_rate\n",
    "    \n",
    "FROM comprehensive_call_analysis\n",
    "WHERE agent_name != 'Not Available' AND agent_name IS NOT NULL\n",
    "GROUP BY agent_name\n",
    "ORDER BY avg_performance_score DESC;\n"
   ]
  },
  {
   "cell_type": "code",
   "execution_count": null,
   "id": "d91268fe-d919-4ed6-8787-1828f1ada0e7",
   "metadata": {
    "language": "sql",
    "name": "cell17"
   },
   "outputs": [],
   "source": [
    "-- 📊 Call Pattern Analysis\n",
    "WITH call_patterns AS (\n",
    "    SELECT \n",
    "        primary_intent,\n",
    "        urgency_level,\n",
    "        COUNT(*) as call_count,\n",
    "        ROUND(AVG(sentiment_score), 3) as avg_sentiment,\n",
    "        ROUND(AVG(agent_performance_score), 1) as avg_agent_score,\n",
    "        \n",
    "        -- Resolution patterns\n",
    "        ROUND(SUM(CASE WHEN issue_resolved = 'yes' THEN 1 ELSE 0 END) / COUNT(*) * 100, 1) as resolution_rate,\n",
    "        \n",
    "        -- Satisfaction patterns\n",
    "        ROUND(SUM(CASE WHEN customer_satisfaction = 'satisfied' THEN 1 ELSE 0 END) / COUNT(*) * 100, 1) as satisfaction_rate,\n",
    "        \n",
    "        -- Escalation patterns\n",
    "        ROUND(SUM(CASE WHEN escalation_required = 'yes' THEN 1 ELSE 0 END) / COUNT(*) * 100, 1) as escalation_rate\n",
    "        \n",
    "    FROM comprehensive_call_analysis\n",
    "    WHERE primary_intent IS NOT NULL AND primary_intent != 'Not Available'\n",
    "    GROUP BY primary_intent, urgency_level\n",
    ")\n",
    "SELECT \n",
    "    primary_intent,\n",
    "    urgency_level,\n",
    "    call_count,\n",
    "    avg_sentiment,\n",
    "    avg_agent_score,\n",
    "    resolution_rate || '%' as resolution_rate_pct,\n",
    "    satisfaction_rate || '%' as satisfaction_rate_pct,\n",
    "    escalation_rate || '%' as escalation_rate_pct,\n",
    "    \n",
    "    -- Performance flags\n",
    "    CASE \n",
    "        WHEN resolution_rate < 70 THEN '⚠️ Low Resolution'\n",
    "        WHEN satisfaction_rate < 60 THEN '⚠️ Low Satisfaction'\n",
    "        WHEN escalation_rate > 30 THEN '⚠️ High Escalation'\n",
    "        ELSE '✅ Good Performance'\n",
    "    END as performance_flag\n",
    "    \n",
    "FROM call_patterns\n",
    "ORDER BY call_count DESC;\n"
   ]
  },
  {
   "cell_type": "markdown",
   "id": "ce110000-1111-2222-3333-ffffff000016",
   "metadata": {
    "collapsed": false,
    "name": "cell18"
   },
   "source": [
    "## Conclusion and Next Steps\n",
    "\n",
    "This notebook has demonstrated the powerful capabilities of AI_TRANSCRIBE combined with Snowflake's Cortex AI functions to:\n",
    "\n",
    "✅ **Automatically transcribe** call center audio files with high accuracy  \n",
    "✅ **Extract structured insights** from unstructured conversation data  \n",
    "✅ **Identify performance patterns** and improvement opportunities  \n",
    "✅ **Detect anomalies** and quality issues automatically  \n",
    "✅ **Generate actionable recommendations** using AI analysis  \n",
    "✅ **Create comprehensive reports** for management decision-making  \n",
    "\n",
    "### Key Advantages of AI_TRANSCRIBE:\n",
    "- **No infrastructure management** - serverless transcription\n",
    "- **Multi-language support** - 40+ languages supported\n",
    "- **High accuracy** - latest AI models for transcription\n",
    "- **Scalable processing** - handle large volumes of audio files\n",
    "- **Integrated analytics** - seamless combination with other Cortex functions\n",
    "\n",
    "### Recommended Next Steps:\n",
    "1. **View Streamlit application** for natural language analysis using Cortex Agents\n",
    "1. **Upload your own recordings** on the stage to apply this to your use case\n",
    "2. **Set up automated pipelines** for real-time call analysis"
   ]
  }
 ],
 "metadata": {
  "language_info": {
   "name": "python"
  },
  "lastEditStatus": {
   "authorEmail": "charlie.hammond@snowflake.com",
   "authorId": "3301574078015",
   "authorName": "CHAMMOND_SFC",
   "lastEditTime": 1753455657527,
   "notebookId": "mfisn3x4jqd4hlc5krsg",
   "sessionId": "f8f94a80-e000-408f-b9e4-a6896c7d9416"
  }
 },
 "nbformat": 4,
 "nbformat_minor": 2
}
